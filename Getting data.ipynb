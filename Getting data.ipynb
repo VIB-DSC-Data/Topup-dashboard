{
 "cells": [
  {
   "cell_type": "code",
   "execution_count": 1,
   "metadata": {},
   "outputs": [],
   "source": [
    "import cx_Oracle as ora\n",
    "import pandas as pd"
   ]
  },
  {
   "cell_type": "code",
   "execution_count": 3,
   "metadata": {},
   "outputs": [],
   "source": [
    "dsnStr = ora.makedsn(host=\"10.60.54.12\", port=\"1521\", service_name=\"DEC_DATA\")\n",
    "con = ora.connect(user=\"ADM32157HIEUNGUYENPHI\", password=\"ADM32157HIEU\", dsn=dsnStr)\n",
    "c = con.cursor()\n",
    "start_date = \"DATE'2022-12-01'\"\n",
    "end_date = \"DATE'2022-12-31'\"\n",
    "query = '''SELECT x.CLIENT_NO\n",
    "    ,y.IB_REGISTERED_DATE2\n",
    "    ,TRAN_DATE\n",
    "    ,TRAN_AMOUNT\n",
    "FROM \n",
    "    (SELECT * FROM DEC_BU.U_PROD_FT_TRAN_LOG\n",
    "    WHERE TRANS_LV3 = 'Mobile'\n",
    "    AND STATUS = 'S'\n",
    "    AND TRAN_DATE BETWEEN :start_date AND :end_date) x\n",
    "LEFT JOIN DEC_BU.U_TABLEAU_CUSTOMER y\n",
    "ON x.CLIENT_NO = y.CLIENT_NO'''\n",
    "query = query.replace(':start_date',start_date).replace(':end_date',end_date)\n",
    "query \n",
    "result = c.execute(query).fetchall()"
   ]
  },
  {
   "cell_type": "code",
   "execution_count": 7,
   "metadata": {},
   "outputs": [
    {
     "data": {
      "text/html": [
       "<div>\n",
       "<style scoped>\n",
       "    .dataframe tbody tr th:only-of-type {\n",
       "        vertical-align: middle;\n",
       "    }\n",
       "\n",
       "    .dataframe tbody tr th {\n",
       "        vertical-align: top;\n",
       "    }\n",
       "\n",
       "    .dataframe thead th {\n",
       "        text-align: right;\n",
       "    }\n",
       "</style>\n",
       "<table border=\"1\" class=\"dataframe\">\n",
       "  <thead>\n",
       "    <tr style=\"text-align: right;\">\n",
       "      <th></th>\n",
       "      <th>CLIENT_NO</th>\n",
       "      <th>IB_REGISTERED_DATE2</th>\n",
       "      <th>TRAN_DATE</th>\n",
       "      <th>TRAN_AMOUNT</th>\n",
       "    </tr>\n",
       "  </thead>\n",
       "  <tbody>\n",
       "    <tr>\n",
       "      <th>0</th>\n",
       "      <td>00114749</td>\n",
       "      <td>2022-12-02</td>\n",
       "      <td>2022-12-16</td>\n",
       "      <td>19400</td>\n",
       "    </tr>\n",
       "    <tr>\n",
       "      <th>1</th>\n",
       "      <td>00931638</td>\n",
       "      <td>2022-12-09</td>\n",
       "      <td>2022-12-18</td>\n",
       "      <td>48500</td>\n",
       "    </tr>\n",
       "    <tr>\n",
       "      <th>2</th>\n",
       "      <td>00931638</td>\n",
       "      <td>2022-12-09</td>\n",
       "      <td>2022-12-18</td>\n",
       "      <td>291000</td>\n",
       "    </tr>\n",
       "    <tr>\n",
       "      <th>3</th>\n",
       "      <td>00931638</td>\n",
       "      <td>2022-12-09</td>\n",
       "      <td>2022-12-22</td>\n",
       "      <td>97000</td>\n",
       "    </tr>\n",
       "    <tr>\n",
       "      <th>4</th>\n",
       "      <td>00931638</td>\n",
       "      <td>2022-12-09</td>\n",
       "      <td>2022-12-31</td>\n",
       "      <td>97000</td>\n",
       "    </tr>\n",
       "    <tr>\n",
       "      <th>...</th>\n",
       "      <td>...</td>\n",
       "      <td>...</td>\n",
       "      <td>...</td>\n",
       "      <td>...</td>\n",
       "    </tr>\n",
       "    <tr>\n",
       "      <th>193853</th>\n",
       "      <td>04118003</td>\n",
       "      <td>2022-10-10</td>\n",
       "      <td>2022-12-21</td>\n",
       "      <td>97000</td>\n",
       "    </tr>\n",
       "    <tr>\n",
       "      <th>193854</th>\n",
       "      <td>04118003</td>\n",
       "      <td>2022-10-10</td>\n",
       "      <td>2022-12-24</td>\n",
       "      <td>194000</td>\n",
       "    </tr>\n",
       "    <tr>\n",
       "      <th>193855</th>\n",
       "      <td>04038526</td>\n",
       "      <td>2022-09-15</td>\n",
       "      <td>2022-12-17</td>\n",
       "      <td>97000</td>\n",
       "    </tr>\n",
       "    <tr>\n",
       "      <th>193856</th>\n",
       "      <td>04282337</td>\n",
       "      <td>2022-12-01</td>\n",
       "      <td>2022-12-08</td>\n",
       "      <td>48500</td>\n",
       "    </tr>\n",
       "    <tr>\n",
       "      <th>193857</th>\n",
       "      <td>04282337</td>\n",
       "      <td>2022-12-01</td>\n",
       "      <td>2022-12-08</td>\n",
       "      <td>97000</td>\n",
       "    </tr>\n",
       "  </tbody>\n",
       "</table>\n",
       "<p>193858 rows × 4 columns</p>\n",
       "</div>"
      ],
      "text/plain": [
       "       CLIENT_NO IB_REGISTERED_DATE2  TRAN_DATE  TRAN_AMOUNT\n",
       "0       00114749          2022-12-02 2022-12-16        19400\n",
       "1       00931638          2022-12-09 2022-12-18        48500\n",
       "2       00931638          2022-12-09 2022-12-18       291000\n",
       "3       00931638          2022-12-09 2022-12-22        97000\n",
       "4       00931638          2022-12-09 2022-12-31        97000\n",
       "...          ...                 ...        ...          ...\n",
       "193853  04118003          2022-10-10 2022-12-21        97000\n",
       "193854  04118003          2022-10-10 2022-12-24       194000\n",
       "193855  04038526          2022-09-15 2022-12-17        97000\n",
       "193856  04282337          2022-12-01 2022-12-08        48500\n",
       "193857  04282337          2022-12-01 2022-12-08        97000\n",
       "\n",
       "[193858 rows x 4 columns]"
      ]
     },
     "execution_count": 7,
     "metadata": {},
     "output_type": "execute_result"
    }
   ],
   "source": [
    "df = pd.DataFrame(result)\n",
    "df.columns = [i[0] for i in c.description]\n",
    "df "
   ]
  },
  {
   "cell_type": "code",
   "execution_count": 10,
   "metadata": {},
   "outputs": [],
   "source": [
    "origin = pd.read_csv('MB2_TOPUP_MOBILE.csv', sep = '|')"
   ]
  },
  {
   "cell_type": "code",
   "execution_count": 27,
   "metadata": {},
   "outputs": [
    {
     "name": "stdout",
     "output_type": "stream",
     "text": [
      "<class 'pandas.core.frame.DataFrame'>\n",
      "RangeIndex: 337844 entries, 0 to 337843\n",
      "Data columns (total 4 columns):\n",
      " #   Column               Non-Null Count   Dtype \n",
      "---  ------               --------------   ----- \n",
      " 0   CLIENT_NO            337844 non-null  int64 \n",
      " 1   IB_REGISTERED_DATE2  337844 non-null  object\n",
      " 2   TRAN_DATE            337844 non-null  object\n",
      " 3   TRAN_AMOUNT          337844 non-null  int64 \n",
      "dtypes: int64(2), object(2)\n",
      "memory usage: 10.3+ MB\n"
     ]
    }
   ],
   "source": [
    "origin['IB_REGISTERED_DATE2'] = pd.to_datetime(origin['IB_REGISTERED_DATE2'])\n",
    "origin['TRAN_DATE'] = pd.to_datetime(origin['TRAN_DATE'])\n",
    "origin['IB_REGISTERED_DATE2'] = origin['IB_REGISTERED_DATE2'].dt.date\n",
    "origin['TRAN_DATE'] = origin['TRAN_DATE'].dt.date\n",
    "origin.info()"
   ]
  },
  {
   "cell_type": "code",
   "execution_count": 33,
   "metadata": {},
   "outputs": [
    {
     "ename": "AttributeError",
     "evalue": "Can only use .dt accessor with datetimelike values",
     "output_type": "error",
     "traceback": [
      "\u001b[0;31m---------------------------------------------------------------------------\u001b[0m",
      "\u001b[0;31mAttributeError\u001b[0m                            Traceback (most recent call last)",
      "\u001b[0;32m<ipython-input-33-0f6a79d7bdec>\u001b[0m in \u001b[0;36m<module>\u001b[0;34m\u001b[0m\n\u001b[1;32m      1\u001b[0m \u001b[0mdf\u001b[0m\u001b[0;34m[\u001b[0m\u001b[0;34m'CLIENT_NO'\u001b[0m\u001b[0;34m]\u001b[0m \u001b[0;34m=\u001b[0m \u001b[0mdf\u001b[0m\u001b[0;34m[\u001b[0m\u001b[0;34m'CLIENT_NO'\u001b[0m\u001b[0;34m]\u001b[0m\u001b[0;34m.\u001b[0m\u001b[0mastype\u001b[0m\u001b[0;34m(\u001b[0m\u001b[0mint\u001b[0m\u001b[0;34m)\u001b[0m\u001b[0;34m\u001b[0m\u001b[0;34m\u001b[0m\u001b[0m\n\u001b[0;32m----> 2\u001b[0;31m \u001b[0mdf\u001b[0m\u001b[0;34m[\u001b[0m\u001b[0;34m'IB_REGISTERED_DATE2'\u001b[0m\u001b[0;34m]\u001b[0m \u001b[0;34m=\u001b[0m \u001b[0mdf\u001b[0m\u001b[0;34m[\u001b[0m\u001b[0;34m'IB_REGISTERED_DATE2'\u001b[0m\u001b[0;34m]\u001b[0m\u001b[0;34m.\u001b[0m\u001b[0mdt\u001b[0m\u001b[0;34m.\u001b[0m\u001b[0mdate\u001b[0m\u001b[0;34m\u001b[0m\u001b[0;34m\u001b[0m\u001b[0m\n\u001b[0m\u001b[1;32m      3\u001b[0m \u001b[0mdf\u001b[0m\u001b[0;34m[\u001b[0m\u001b[0;34m'TRAN_DATE'\u001b[0m\u001b[0;34m]\u001b[0m \u001b[0;34m=\u001b[0m \u001b[0mdf\u001b[0m\u001b[0;34m[\u001b[0m\u001b[0;34m'TRAN_DATE'\u001b[0m\u001b[0;34m]\u001b[0m\u001b[0;34m.\u001b[0m\u001b[0mdt\u001b[0m\u001b[0;34m.\u001b[0m\u001b[0mdate\u001b[0m\u001b[0;34m\u001b[0m\u001b[0;34m\u001b[0m\u001b[0m\n\u001b[1;32m      4\u001b[0m \u001b[0mdf\u001b[0m\u001b[0;34m.\u001b[0m\u001b[0minfo\u001b[0m\u001b[0;34m(\u001b[0m\u001b[0;34m)\u001b[0m\u001b[0;34m\u001b[0m\u001b[0;34m\u001b[0m\u001b[0m\n",
      "\u001b[0;32m/opt/anaconda3/lib/python3.8/site-packages/pandas/core/generic.py\u001b[0m in \u001b[0;36m__getattr__\u001b[0;34m(self, name)\u001b[0m\n\u001b[1;32m   5459\u001b[0m             \u001b[0;32mor\u001b[0m \u001b[0mname\u001b[0m \u001b[0;32min\u001b[0m \u001b[0mself\u001b[0m\u001b[0;34m.\u001b[0m\u001b[0m_accessors\u001b[0m\u001b[0;34m\u001b[0m\u001b[0;34m\u001b[0m\u001b[0m\n\u001b[1;32m   5460\u001b[0m         ):\n\u001b[0;32m-> 5461\u001b[0;31m             \u001b[0;32mreturn\u001b[0m \u001b[0mobject\u001b[0m\u001b[0;34m.\u001b[0m\u001b[0m__getattribute__\u001b[0m\u001b[0;34m(\u001b[0m\u001b[0mself\u001b[0m\u001b[0;34m,\u001b[0m \u001b[0mname\u001b[0m\u001b[0;34m)\u001b[0m\u001b[0;34m\u001b[0m\u001b[0;34m\u001b[0m\u001b[0m\n\u001b[0m\u001b[1;32m   5462\u001b[0m         \u001b[0;32melse\u001b[0m\u001b[0;34m:\u001b[0m\u001b[0;34m\u001b[0m\u001b[0;34m\u001b[0m\u001b[0m\n\u001b[1;32m   5463\u001b[0m             \u001b[0;32mif\u001b[0m \u001b[0mself\u001b[0m\u001b[0;34m.\u001b[0m\u001b[0m_info_axis\u001b[0m\u001b[0;34m.\u001b[0m\u001b[0m_can_hold_identifiers_and_holds_name\u001b[0m\u001b[0;34m(\u001b[0m\u001b[0mname\u001b[0m\u001b[0;34m)\u001b[0m\u001b[0;34m:\u001b[0m\u001b[0;34m\u001b[0m\u001b[0;34m\u001b[0m\u001b[0m\n",
      "\u001b[0;32m/opt/anaconda3/lib/python3.8/site-packages/pandas/core/accessor.py\u001b[0m in \u001b[0;36m__get__\u001b[0;34m(self, obj, cls)\u001b[0m\n\u001b[1;32m    178\u001b[0m             \u001b[0;31m# we're accessing the attribute of the class, i.e., Dataset.geo\u001b[0m\u001b[0;34m\u001b[0m\u001b[0;34m\u001b[0m\u001b[0;34m\u001b[0m\u001b[0m\n\u001b[1;32m    179\u001b[0m             \u001b[0;32mreturn\u001b[0m \u001b[0mself\u001b[0m\u001b[0;34m.\u001b[0m\u001b[0m_accessor\u001b[0m\u001b[0;34m\u001b[0m\u001b[0;34m\u001b[0m\u001b[0m\n\u001b[0;32m--> 180\u001b[0;31m         \u001b[0maccessor_obj\u001b[0m \u001b[0;34m=\u001b[0m \u001b[0mself\u001b[0m\u001b[0;34m.\u001b[0m\u001b[0m_accessor\u001b[0m\u001b[0;34m(\u001b[0m\u001b[0mobj\u001b[0m\u001b[0;34m)\u001b[0m\u001b[0;34m\u001b[0m\u001b[0;34m\u001b[0m\u001b[0m\n\u001b[0m\u001b[1;32m    181\u001b[0m         \u001b[0;31m# Replace the property with the accessor object. Inspired by:\u001b[0m\u001b[0;34m\u001b[0m\u001b[0;34m\u001b[0m\u001b[0;34m\u001b[0m\u001b[0m\n\u001b[1;32m    182\u001b[0m         \u001b[0;31m# https://www.pydanny.com/cached-property.html\u001b[0m\u001b[0;34m\u001b[0m\u001b[0;34m\u001b[0m\u001b[0;34m\u001b[0m\u001b[0m\n",
      "\u001b[0;32m/opt/anaconda3/lib/python3.8/site-packages/pandas/core/indexes/accessors.py\u001b[0m in \u001b[0;36m__new__\u001b[0;34m(cls, data)\u001b[0m\n\u001b[1;32m    492\u001b[0m             \u001b[0;32mreturn\u001b[0m \u001b[0mPeriodProperties\u001b[0m\u001b[0;34m(\u001b[0m\u001b[0mdata\u001b[0m\u001b[0;34m,\u001b[0m \u001b[0morig\u001b[0m\u001b[0;34m)\u001b[0m\u001b[0;34m\u001b[0m\u001b[0;34m\u001b[0m\u001b[0m\n\u001b[1;32m    493\u001b[0m \u001b[0;34m\u001b[0m\u001b[0m\n\u001b[0;32m--> 494\u001b[0;31m         \u001b[0;32mraise\u001b[0m \u001b[0mAttributeError\u001b[0m\u001b[0;34m(\u001b[0m\u001b[0;34m\"Can only use .dt accessor with datetimelike values\"\u001b[0m\u001b[0;34m)\u001b[0m\u001b[0;34m\u001b[0m\u001b[0;34m\u001b[0m\u001b[0m\n\u001b[0m",
      "\u001b[0;31mAttributeError\u001b[0m: Can only use .dt accessor with datetimelike values"
     ]
    }
   ],
   "source": [
    "df['CLIENT_NO'] = df['CLIENT_NO'].astype(int)\n",
    "df['IB_REGISTERED_DATE2'] = df['IB_REGISTERED_DATE2'].dt.date\n",
    "df['TRAN_DATE'] = df['TRAN_DATE'].dt.date\n",
    "df.info()"
   ]
  },
  {
   "cell_type": "code",
   "execution_count": 34,
   "metadata": {},
   "outputs": [
    {
     "data": {
      "text/plain": [
       "(531702, 4)"
      ]
     },
     "execution_count": 34,
     "metadata": {},
     "output_type": "execute_result"
    }
   ],
   "source": [
    "origin_ = origin.append(df)\n",
    "origin_.shape"
   ]
  },
  {
   "cell_type": "code",
   "execution_count": 35,
   "metadata": {},
   "outputs": [
    {
     "data": {
      "text/html": [
       "<div>\n",
       "<style scoped>\n",
       "    .dataframe tbody tr th:only-of-type {\n",
       "        vertical-align: middle;\n",
       "    }\n",
       "\n",
       "    .dataframe tbody tr th {\n",
       "        vertical-align: top;\n",
       "    }\n",
       "\n",
       "    .dataframe thead th {\n",
       "        text-align: right;\n",
       "    }\n",
       "</style>\n",
       "<table border=\"1\" class=\"dataframe\">\n",
       "  <thead>\n",
       "    <tr style=\"text-align: right;\">\n",
       "      <th></th>\n",
       "      <th>CLIENT_NO</th>\n",
       "      <th>IB_REGISTERED_DATE2</th>\n",
       "      <th>TRAN_DATE</th>\n",
       "      <th>TRAN_AMOUNT</th>\n",
       "    </tr>\n",
       "  </thead>\n",
       "  <tbody>\n",
       "    <tr>\n",
       "      <th>0</th>\n",
       "      <td>190011</td>\n",
       "      <td>2012-11-21</td>\n",
       "      <td>2022-07-14</td>\n",
       "      <td>300000</td>\n",
       "    </tr>\n",
       "    <tr>\n",
       "      <th>1</th>\n",
       "      <td>190011</td>\n",
       "      <td>2012-11-21</td>\n",
       "      <td>2022-07-11</td>\n",
       "      <td>100000</td>\n",
       "    </tr>\n",
       "    <tr>\n",
       "      <th>2</th>\n",
       "      <td>190011</td>\n",
       "      <td>2012-11-21</td>\n",
       "      <td>2022-08-08</td>\n",
       "      <td>100000</td>\n",
       "    </tr>\n",
       "    <tr>\n",
       "      <th>3</th>\n",
       "      <td>190011</td>\n",
       "      <td>2012-11-21</td>\n",
       "      <td>2022-08-05</td>\n",
       "      <td>100000</td>\n",
       "    </tr>\n",
       "    <tr>\n",
       "      <th>4</th>\n",
       "      <td>190011</td>\n",
       "      <td>2012-11-21</td>\n",
       "      <td>2022-10-28</td>\n",
       "      <td>485000</td>\n",
       "    </tr>\n",
       "    <tr>\n",
       "      <th>...</th>\n",
       "      <td>...</td>\n",
       "      <td>...</td>\n",
       "      <td>...</td>\n",
       "      <td>...</td>\n",
       "    </tr>\n",
       "    <tr>\n",
       "      <th>531697</th>\n",
       "      <td>4118003</td>\n",
       "      <td>2022-10-10</td>\n",
       "      <td>2022-12-21</td>\n",
       "      <td>97000</td>\n",
       "    </tr>\n",
       "    <tr>\n",
       "      <th>531698</th>\n",
       "      <td>4118003</td>\n",
       "      <td>2022-10-10</td>\n",
       "      <td>2022-12-24</td>\n",
       "      <td>194000</td>\n",
       "    </tr>\n",
       "    <tr>\n",
       "      <th>531699</th>\n",
       "      <td>4038526</td>\n",
       "      <td>2022-09-15</td>\n",
       "      <td>2022-12-17</td>\n",
       "      <td>97000</td>\n",
       "    </tr>\n",
       "    <tr>\n",
       "      <th>531700</th>\n",
       "      <td>4282337</td>\n",
       "      <td>2022-12-01</td>\n",
       "      <td>2022-12-08</td>\n",
       "      <td>48500</td>\n",
       "    </tr>\n",
       "    <tr>\n",
       "      <th>531701</th>\n",
       "      <td>4282337</td>\n",
       "      <td>2022-12-01</td>\n",
       "      <td>2022-12-08</td>\n",
       "      <td>97000</td>\n",
       "    </tr>\n",
       "  </tbody>\n",
       "</table>\n",
       "<p>531702 rows × 4 columns</p>\n",
       "</div>"
      ],
      "text/plain": [
       "        CLIENT_NO IB_REGISTERED_DATE2   TRAN_DATE  TRAN_AMOUNT\n",
       "0          190011          2012-11-21  2022-07-14       300000\n",
       "1          190011          2012-11-21  2022-07-11       100000\n",
       "2          190011          2012-11-21  2022-08-08       100000\n",
       "3          190011          2012-11-21  2022-08-05       100000\n",
       "4          190011          2012-11-21  2022-10-28       485000\n",
       "...           ...                 ...         ...          ...\n",
       "531697    4118003          2022-10-10  2022-12-21        97000\n",
       "531698    4118003          2022-10-10  2022-12-24       194000\n",
       "531699    4038526          2022-09-15  2022-12-17        97000\n",
       "531700    4282337          2022-12-01  2022-12-08        48500\n",
       "531701    4282337          2022-12-01  2022-12-08        97000\n",
       "\n",
       "[531702 rows x 4 columns]"
      ]
     },
     "execution_count": 35,
     "metadata": {},
     "output_type": "execute_result"
    }
   ],
   "source": [
    "origin_ = origin_.reset_index(drop=True)\n",
    "origin_"
   ]
  },
  {
   "cell_type": "code",
   "execution_count": 36,
   "metadata": {},
   "outputs": [],
   "source": [
    "origin_.to_csv('MB2_TOPUP_MOBILE.csv', index=False)"
   ]
  }
 ],
 "metadata": {
  "kernelspec": {
   "display_name": "base",
   "language": "python",
   "name": "python3"
  },
  "language_info": {
   "codemirror_mode": {
    "name": "ipython",
    "version": 3
   },
   "file_extension": ".py",
   "mimetype": "text/x-python",
   "name": "python",
   "nbconvert_exporter": "python",
   "pygments_lexer": "ipython3",
   "version": "3.8.10"
  },
  "orig_nbformat": 4,
  "vscode": {
   "interpreter": {
    "hash": "40d3a090f54c6569ab1632332b64b2c03c39dcf918b08424e98f38b5ae0af88f"
   }
  }
 },
 "nbformat": 4,
 "nbformat_minor": 2
}
